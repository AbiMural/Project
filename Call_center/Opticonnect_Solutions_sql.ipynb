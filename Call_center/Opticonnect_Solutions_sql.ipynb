{
 "cells": [
  {
   "cell_type": "code",
   "execution_count": 63,
   "id": "c6674fa5",
   "metadata": {},
   "outputs": [],
   "source": [
    "# to use sql and pandas libraries\n",
    "\n",
    "import sqlite3\n",
    "import pandas as pd"
   ]
  },
  {
   "cell_type": "code",
   "execution_count": 119,
   "id": "7887d4a2",
   "metadata": {},
   "outputs": [],
   "source": [
    "# to read the excel file for analysing the data\n",
    "\n",
    "df = pd.read_excel('OptiConnect_Solutions.xlsx')"
   ]
  },
  {
   "cell_type": "code",
   "execution_count": 115,
   "id": "5d6cffc3",
   "metadata": {},
   "outputs": [
    {
     "name": "stdout",
     "output_type": "stream",
     "text": [
      "<class 'pandas.core.frame.DataFrame'>\n",
      "RangeIndex: 1772 entries, 0 to 1771\n",
      "Data columns (total 10 columns):\n",
      " #   Column               Non-Null Count  Dtype         \n",
      "---  ------               --------------  -----         \n",
      " 0   Call_Id              1772 non-null   object        \n",
      " 1   Date                 1772 non-null   datetime64[ns]\n",
      " 2   Agent                1772 non-null   object        \n",
      " 3   Department           1772 non-null   object        \n",
      " 4   answered             1772 non-null   object        \n",
      " 5   Resolved             1772 non-null   object        \n",
      " 6   Speed_of_Answer      1455 non-null   float64       \n",
      " 7   AvgTalkDuration      1455 non-null   object        \n",
      " 8   Satisfaction_rating  1455 non-null   float64       \n",
      " 9   Column1              0 non-null      float64       \n",
      "dtypes: datetime64[ns](1), float64(3), object(6)\n",
      "memory usage: 138.6+ KB\n"
     ]
    }
   ],
   "source": [
    "# to display the contents in the excel file uploaded\n",
    "\n",
    "df.info()"
   ]
  },
  {
   "cell_type": "code",
   "execution_count": 120,
   "id": "b07c109b",
   "metadata": {},
   "outputs": [],
   "source": [
    "# to establish the sql server and creating a memory\n",
    "\n",
    "conn = sqlite3.connect(':memory:')"
   ]
  },
  {
   "cell_type": "code",
   "execution_count": 121,
   "id": "b1013a03",
   "metadata": {},
   "outputs": [
    {
     "data": {
      "text/plain": [
       "1772"
      ]
     },
     "execution_count": 121,
     "metadata": {},
     "output_type": "execute_result"
    }
   ],
   "source": [
    "# to load data frames into sql database\n",
    "\n",
    "df.to_sql(\"opticonnect\",conn, index=False, if_exists='replace')"
   ]
  },
  {
   "cell_type": "code",
   "execution_count": 122,
   "id": "f466fca3",
   "metadata": {},
   "outputs": [],
   "source": [
    "# creating a function to read the data frame with sql query\n",
    "\n",
    "\n",
    "def execute_query(query):\n",
    "  return pd.read_sql_query(query, conn)"
   ]
  },
  {
   "cell_type": "code",
   "execution_count": 123,
   "id": "206330e2",
   "metadata": {},
   "outputs": [
    {
     "data": {
      "text/html": [
       "<div>\n",
       "<style scoped>\n",
       "    .dataframe tbody tr th:only-of-type {\n",
       "        vertical-align: middle;\n",
       "    }\n",
       "\n",
       "    .dataframe tbody tr th {\n",
       "        vertical-align: top;\n",
       "    }\n",
       "\n",
       "    .dataframe thead th {\n",
       "        text-align: right;\n",
       "    }\n",
       "</style>\n",
       "<table border=\"1\" class=\"dataframe\">\n",
       "  <thead>\n",
       "    <tr style=\"text-align: right;\">\n",
       "      <th></th>\n",
       "      <th>Call_Id</th>\n",
       "      <th>Date</th>\n",
       "      <th>Agent</th>\n",
       "      <th>Department</th>\n",
       "      <th>answered</th>\n",
       "      <th>Resolved</th>\n",
       "      <th>Speed_of_Answer</th>\n",
       "      <th>AvgTalkDuration</th>\n",
       "      <th>Satisfaction_rating</th>\n",
       "      <th>Column1</th>\n",
       "    </tr>\n",
       "  </thead>\n",
       "  <tbody>\n",
       "    <tr>\n",
       "      <th>0</th>\n",
       "      <td>ID1771</td>\n",
       "      <td>2016-01-31 17:34:04.800000</td>\n",
       "      <td>Jim</td>\n",
       "      <td>Fridge</td>\n",
       "      <td>Y</td>\n",
       "      <td>Y</td>\n",
       "      <td>91.0</td>\n",
       "      <td>00:02:58.667000</td>\n",
       "      <td>3.0</td>\n",
       "      <td>None</td>\n",
       "    </tr>\n",
       "    <tr>\n",
       "      <th>1</th>\n",
       "      <td>ID1772</td>\n",
       "      <td>2016-01-31 17:34:04.800000</td>\n",
       "      <td>Greg</td>\n",
       "      <td>Air Conditioner</td>\n",
       "      <td>Y</td>\n",
       "      <td>Y</td>\n",
       "      <td>121.0</td>\n",
       "      <td>00:06:01.008000</td>\n",
       "      <td>2.0</td>\n",
       "      <td>None</td>\n",
       "    </tr>\n",
       "    <tr>\n",
       "      <th>2</th>\n",
       "      <td>ID1769</td>\n",
       "      <td>2016-01-31 17:08:09.600000</td>\n",
       "      <td>Dan</td>\n",
       "      <td>Fridge</td>\n",
       "      <td>N</td>\n",
       "      <td>N</td>\n",
       "      <td>NaN</td>\n",
       "      <td>None</td>\n",
       "      <td>NaN</td>\n",
       "      <td>None</td>\n",
       "    </tr>\n",
       "    <tr>\n",
       "      <th>3</th>\n",
       "      <td>ID1770</td>\n",
       "      <td>2016-01-31 17:08:09.600000</td>\n",
       "      <td>Diane</td>\n",
       "      <td>Toaster</td>\n",
       "      <td>Y</td>\n",
       "      <td>Y</td>\n",
       "      <td>78.0</td>\n",
       "      <td>00:01:02.568000</td>\n",
       "      <td>4.0</td>\n",
       "      <td>None</td>\n",
       "    </tr>\n",
       "    <tr>\n",
       "      <th>4</th>\n",
       "      <td>ID1767</td>\n",
       "      <td>2016-01-31 16:56:38.400000</td>\n",
       "      <td>Becky</td>\n",
       "      <td>Washing Machine</td>\n",
       "      <td>Y</td>\n",
       "      <td>Y</td>\n",
       "      <td>58.0</td>\n",
       "      <td>00:04:41.917000</td>\n",
       "      <td>5.0</td>\n",
       "      <td>None</td>\n",
       "    </tr>\n",
       "    <tr>\n",
       "      <th>5</th>\n",
       "      <td>ID1768</td>\n",
       "      <td>2016-01-31 16:56:38.400000</td>\n",
       "      <td>Dan</td>\n",
       "      <td>Television</td>\n",
       "      <td>N</td>\n",
       "      <td>N</td>\n",
       "      <td>NaN</td>\n",
       "      <td>None</td>\n",
       "      <td>NaN</td>\n",
       "      <td>None</td>\n",
       "    </tr>\n",
       "    <tr>\n",
       "      <th>6</th>\n",
       "      <td>ID1765</td>\n",
       "      <td>2016-01-31 16:20:38.400000</td>\n",
       "      <td>Greg</td>\n",
       "      <td>Television</td>\n",
       "      <td>Y</td>\n",
       "      <td>Y</td>\n",
       "      <td>95.0</td>\n",
       "      <td>00:05:00.554000</td>\n",
       "      <td>3.0</td>\n",
       "      <td>None</td>\n",
       "    </tr>\n",
       "    <tr>\n",
       "      <th>7</th>\n",
       "      <td>ID1766</td>\n",
       "      <td>2016-01-31 16:20:38.400000</td>\n",
       "      <td>Becky</td>\n",
       "      <td>Washing Machine</td>\n",
       "      <td>Y</td>\n",
       "      <td>Y</td>\n",
       "      <td>49.0</td>\n",
       "      <td>00:01:58.011000</td>\n",
       "      <td>3.0</td>\n",
       "      <td>None</td>\n",
       "    </tr>\n",
       "    <tr>\n",
       "      <th>8</th>\n",
       "      <td>ID1761</td>\n",
       "      <td>2016-01-31 16:09:07.200000</td>\n",
       "      <td>Stewart</td>\n",
       "      <td>Washing Machine</td>\n",
       "      <td>Y</td>\n",
       "      <td>Y</td>\n",
       "      <td>103.0</td>\n",
       "      <td>00:06:13.686000</td>\n",
       "      <td>4.0</td>\n",
       "      <td>None</td>\n",
       "    </tr>\n",
       "    <tr>\n",
       "      <th>9</th>\n",
       "      <td>ID1762</td>\n",
       "      <td>2016-01-31 16:09:07.200000</td>\n",
       "      <td>Becky</td>\n",
       "      <td>Washing Machine</td>\n",
       "      <td>Y</td>\n",
       "      <td>Y</td>\n",
       "      <td>81.0</td>\n",
       "      <td>00:03:25.626000</td>\n",
       "      <td>2.0</td>\n",
       "      <td>None</td>\n",
       "    </tr>\n",
       "  </tbody>\n",
       "</table>\n",
       "</div>"
      ],
      "text/plain": [
       "  Call_Id                        Date    Agent       Department answered  \\\n",
       "0  ID1771  2016-01-31 17:34:04.800000      Jim           Fridge        Y   \n",
       "1  ID1772  2016-01-31 17:34:04.800000     Greg  Air Conditioner        Y   \n",
       "2  ID1769  2016-01-31 17:08:09.600000      Dan           Fridge        N   \n",
       "3  ID1770  2016-01-31 17:08:09.600000    Diane          Toaster        Y   \n",
       "4  ID1767  2016-01-31 16:56:38.400000    Becky  Washing Machine        Y   \n",
       "5  ID1768  2016-01-31 16:56:38.400000      Dan       Television        N   \n",
       "6  ID1765  2016-01-31 16:20:38.400000     Greg       Television        Y   \n",
       "7  ID1766  2016-01-31 16:20:38.400000    Becky  Washing Machine        Y   \n",
       "8  ID1761  2016-01-31 16:09:07.200000  Stewart  Washing Machine        Y   \n",
       "9  ID1762  2016-01-31 16:09:07.200000    Becky  Washing Machine        Y   \n",
       "\n",
       "  Resolved  Speed_of_Answer  AvgTalkDuration  Satisfaction_rating Column1  \n",
       "0        Y             91.0  00:02:58.667000                  3.0    None  \n",
       "1        Y            121.0  00:06:01.008000                  2.0    None  \n",
       "2        N              NaN             None                  NaN    None  \n",
       "3        Y             78.0  00:01:02.568000                  4.0    None  \n",
       "4        Y             58.0  00:04:41.917000                  5.0    None  \n",
       "5        N              NaN             None                  NaN    None  \n",
       "6        Y             95.0  00:05:00.554000                  3.0    None  \n",
       "7        Y             49.0  00:01:58.011000                  3.0    None  \n",
       "8        Y            103.0  00:06:13.686000                  4.0    None  \n",
       "9        Y             81.0  00:03:25.626000                  2.0    None  "
      ]
     },
     "execution_count": 123,
     "metadata": {},
     "output_type": "execute_result"
    }
   ],
   "source": [
    "# understand the data\n",
    "\n",
    "execute_query(\"select * from opticonnect limit 10;\")"
   ]
  },
  {
   "cell_type": "code",
   "execution_count": 125,
   "id": "72d8d778",
   "metadata": {},
   "outputs": [
    {
     "data": {
      "text/plain": [
       "<sqlite3.Cursor at 0x255d64945c0>"
      ]
     },
     "execution_count": 125,
     "metadata": {},
     "output_type": "execute_result"
    }
   ],
   "source": [
    "conn.execute(\"\"\"update opticonnect\n",
    "SET AvgTalkDuration = substr(AvgTalkDuration, 1, 8);\"\"\")"
   ]
  },
  {
   "cell_type": "code",
   "execution_count": 126,
   "id": "6b7fba10",
   "metadata": {},
   "outputs": [],
   "source": [
    "conn.commit()"
   ]
  },
  {
   "cell_type": "code",
   "execution_count": 127,
   "id": "a34cd10c",
   "metadata": {},
   "outputs": [
    {
     "data": {
      "text/html": [
       "<div>\n",
       "<style scoped>\n",
       "    .dataframe tbody tr th:only-of-type {\n",
       "        vertical-align: middle;\n",
       "    }\n",
       "\n",
       "    .dataframe tbody tr th {\n",
       "        vertical-align: top;\n",
       "    }\n",
       "\n",
       "    .dataframe thead th {\n",
       "        text-align: right;\n",
       "    }\n",
       "</style>\n",
       "<table border=\"1\" class=\"dataframe\">\n",
       "  <thead>\n",
       "    <tr style=\"text-align: right;\">\n",
       "      <th></th>\n",
       "      <th>Call_Id</th>\n",
       "      <th>Date</th>\n",
       "      <th>Agent</th>\n",
       "      <th>Department</th>\n",
       "      <th>answered</th>\n",
       "      <th>Resolved</th>\n",
       "      <th>Speed_of_Answer</th>\n",
       "      <th>AvgTalkDuration</th>\n",
       "      <th>Satisfaction_rating</th>\n",
       "      <th>Column1</th>\n",
       "    </tr>\n",
       "  </thead>\n",
       "  <tbody>\n",
       "    <tr>\n",
       "      <th>0</th>\n",
       "      <td>ID1771</td>\n",
       "      <td>2016-01-31 17:34:04.800000</td>\n",
       "      <td>Jim</td>\n",
       "      <td>Fridge</td>\n",
       "      <td>Y</td>\n",
       "      <td>Y</td>\n",
       "      <td>91.0</td>\n",
       "      <td>00:02:58</td>\n",
       "      <td>3.0</td>\n",
       "      <td>None</td>\n",
       "    </tr>\n",
       "    <tr>\n",
       "      <th>1</th>\n",
       "      <td>ID1772</td>\n",
       "      <td>2016-01-31 17:34:04.800000</td>\n",
       "      <td>Greg</td>\n",
       "      <td>Air Conditioner</td>\n",
       "      <td>Y</td>\n",
       "      <td>Y</td>\n",
       "      <td>121.0</td>\n",
       "      <td>00:06:01</td>\n",
       "      <td>2.0</td>\n",
       "      <td>None</td>\n",
       "    </tr>\n",
       "    <tr>\n",
       "      <th>2</th>\n",
       "      <td>ID1769</td>\n",
       "      <td>2016-01-31 17:08:09.600000</td>\n",
       "      <td>Dan</td>\n",
       "      <td>Fridge</td>\n",
       "      <td>N</td>\n",
       "      <td>N</td>\n",
       "      <td>NaN</td>\n",
       "      <td>None</td>\n",
       "      <td>NaN</td>\n",
       "      <td>None</td>\n",
       "    </tr>\n",
       "    <tr>\n",
       "      <th>3</th>\n",
       "      <td>ID1770</td>\n",
       "      <td>2016-01-31 17:08:09.600000</td>\n",
       "      <td>Diane</td>\n",
       "      <td>Toaster</td>\n",
       "      <td>Y</td>\n",
       "      <td>Y</td>\n",
       "      <td>78.0</td>\n",
       "      <td>00:01:02</td>\n",
       "      <td>4.0</td>\n",
       "      <td>None</td>\n",
       "    </tr>\n",
       "    <tr>\n",
       "      <th>4</th>\n",
       "      <td>ID1767</td>\n",
       "      <td>2016-01-31 16:56:38.400000</td>\n",
       "      <td>Becky</td>\n",
       "      <td>Washing Machine</td>\n",
       "      <td>Y</td>\n",
       "      <td>Y</td>\n",
       "      <td>58.0</td>\n",
       "      <td>00:04:41</td>\n",
       "      <td>5.0</td>\n",
       "      <td>None</td>\n",
       "    </tr>\n",
       "    <tr>\n",
       "      <th>...</th>\n",
       "      <td>...</td>\n",
       "      <td>...</td>\n",
       "      <td>...</td>\n",
       "      <td>...</td>\n",
       "      <td>...</td>\n",
       "      <td>...</td>\n",
       "      <td>...</td>\n",
       "      <td>...</td>\n",
       "      <td>...</td>\n",
       "      <td>...</td>\n",
       "    </tr>\n",
       "    <tr>\n",
       "      <th>1767</th>\n",
       "      <td>ID0006</td>\n",
       "      <td>2016-01-01 10:00:28.800000</td>\n",
       "      <td>Stewart</td>\n",
       "      <td>Air Conditioner</td>\n",
       "      <td>N</td>\n",
       "      <td>N</td>\n",
       "      <td>NaN</td>\n",
       "      <td>None</td>\n",
       "      <td>NaN</td>\n",
       "      <td>None</td>\n",
       "    </tr>\n",
       "    <tr>\n",
       "      <th>1768</th>\n",
       "      <td>ID0003</td>\n",
       "      <td>2016-01-01 09:47:31.200000</td>\n",
       "      <td>Stewart</td>\n",
       "      <td>Washing Machine</td>\n",
       "      <td>Y</td>\n",
       "      <td>Y</td>\n",
       "      <td>10.0</td>\n",
       "      <td>00:02:11</td>\n",
       "      <td>3.0</td>\n",
       "      <td>None</td>\n",
       "    </tr>\n",
       "    <tr>\n",
       "      <th>1769</th>\n",
       "      <td>ID0004</td>\n",
       "      <td>2016-01-01 09:47:31.200000</td>\n",
       "      <td>Greg</td>\n",
       "      <td>Washing Machine</td>\n",
       "      <td>Y</td>\n",
       "      <td>Y</td>\n",
       "      <td>53.0</td>\n",
       "      <td>00:00:37</td>\n",
       "      <td>2.0</td>\n",
       "      <td>None</td>\n",
       "    </tr>\n",
       "    <tr>\n",
       "      <th>1770</th>\n",
       "      <td>ID0001</td>\n",
       "      <td>2016-01-01 09:12:58</td>\n",
       "      <td>Diane</td>\n",
       "      <td>Washing Machine</td>\n",
       "      <td>Y</td>\n",
       "      <td>Y</td>\n",
       "      <td>109.0</td>\n",
       "      <td>00:02:23</td>\n",
       "      <td>3.0</td>\n",
       "      <td>None</td>\n",
       "    </tr>\n",
       "    <tr>\n",
       "      <th>1771</th>\n",
       "      <td>ID0002</td>\n",
       "      <td>2016-01-01 09:12:57.600000</td>\n",
       "      <td>Becky</td>\n",
       "      <td>Air Conditioner</td>\n",
       "      <td>Y</td>\n",
       "      <td>N</td>\n",
       "      <td>70.0</td>\n",
       "      <td>00:04:02</td>\n",
       "      <td>3.0</td>\n",
       "      <td>None</td>\n",
       "    </tr>\n",
       "  </tbody>\n",
       "</table>\n",
       "<p>1772 rows × 10 columns</p>\n",
       "</div>"
      ],
      "text/plain": [
       "     Call_Id                        Date    Agent       Department answered  \\\n",
       "0     ID1771  2016-01-31 17:34:04.800000      Jim           Fridge        Y   \n",
       "1     ID1772  2016-01-31 17:34:04.800000     Greg  Air Conditioner        Y   \n",
       "2     ID1769  2016-01-31 17:08:09.600000      Dan           Fridge        N   \n",
       "3     ID1770  2016-01-31 17:08:09.600000    Diane          Toaster        Y   \n",
       "4     ID1767  2016-01-31 16:56:38.400000    Becky  Washing Machine        Y   \n",
       "...      ...                         ...      ...              ...      ...   \n",
       "1767  ID0006  2016-01-01 10:00:28.800000  Stewart  Air Conditioner        N   \n",
       "1768  ID0003  2016-01-01 09:47:31.200000  Stewart  Washing Machine        Y   \n",
       "1769  ID0004  2016-01-01 09:47:31.200000     Greg  Washing Machine        Y   \n",
       "1770  ID0001         2016-01-01 09:12:58    Diane  Washing Machine        Y   \n",
       "1771  ID0002  2016-01-01 09:12:57.600000    Becky  Air Conditioner        Y   \n",
       "\n",
       "     Resolved  Speed_of_Answer AvgTalkDuration  Satisfaction_rating Column1  \n",
       "0           Y             91.0        00:02:58                  3.0    None  \n",
       "1           Y            121.0        00:06:01                  2.0    None  \n",
       "2           N              NaN            None                  NaN    None  \n",
       "3           Y             78.0        00:01:02                  4.0    None  \n",
       "4           Y             58.0        00:04:41                  5.0    None  \n",
       "...       ...              ...             ...                  ...     ...  \n",
       "1767        N              NaN            None                  NaN    None  \n",
       "1768        Y             10.0        00:02:11                  3.0    None  \n",
       "1769        Y             53.0        00:00:37                  2.0    None  \n",
       "1770        Y            109.0        00:02:23                  3.0    None  \n",
       "1771        N             70.0        00:04:02                  3.0    None  \n",
       "\n",
       "[1772 rows x 10 columns]"
      ]
     },
     "execution_count": 127,
     "metadata": {},
     "output_type": "execute_result"
    }
   ],
   "source": [
    "execute_query(\"select * from opticonnect\")"
   ]
  },
  {
   "cell_type": "markdown",
   "id": "f532dbbd",
   "metadata": {},
   "source": [
    "# To find the total number of calls\n",
    "1. using count(call id)"
   ]
  },
  {
   "cell_type": "code",
   "execution_count": 55,
   "id": "a9659c41",
   "metadata": {},
   "outputs": [
    {
     "data": {
      "text/html": [
       "<div>\n",
       "<style scoped>\n",
       "    .dataframe tbody tr th:only-of-type {\n",
       "        vertical-align: middle;\n",
       "    }\n",
       "\n",
       "    .dataframe tbody tr th {\n",
       "        vertical-align: top;\n",
       "    }\n",
       "\n",
       "    .dataframe thead th {\n",
       "        text-align: right;\n",
       "    }\n",
       "</style>\n",
       "<table border=\"1\" class=\"dataframe\">\n",
       "  <thead>\n",
       "    <tr style=\"text-align: right;\">\n",
       "      <th></th>\n",
       "      <th>total_calls</th>\n",
       "    </tr>\n",
       "  </thead>\n",
       "  <tbody>\n",
       "    <tr>\n",
       "      <th>0</th>\n",
       "      <td>1772</td>\n",
       "    </tr>\n",
       "  </tbody>\n",
       "</table>\n",
       "</div>"
      ],
      "text/plain": [
       "   total_calls\n",
       "0         1772"
      ]
     },
     "execution_count": 55,
     "metadata": {},
     "output_type": "execute_result"
    }
   ],
   "source": [
    "execute_query(\"select count(Call_Id) as total_calls from opticonnect;\")"
   ]
  },
  {
   "cell_type": "markdown",
   "id": "a635404d",
   "metadata": {},
   "source": [
    "To find total number of calls answered:\n",
    "1. We can calculate by using count function in answered column and applying a condition that answered = Y"
   ]
  },
  {
   "cell_type": "code",
   "execution_count": 48,
   "id": "609007d0",
   "metadata": {},
   "outputs": [
    {
     "data": {
      "text/html": [
       "<div>\n",
       "<style scoped>\n",
       "    .dataframe tbody tr th:only-of-type {\n",
       "        vertical-align: middle;\n",
       "    }\n",
       "\n",
       "    .dataframe tbody tr th {\n",
       "        vertical-align: top;\n",
       "    }\n",
       "\n",
       "    .dataframe thead th {\n",
       "        text-align: right;\n",
       "    }\n",
       "</style>\n",
       "<table border=\"1\" class=\"dataframe\">\n",
       "  <thead>\n",
       "    <tr style=\"text-align: right;\">\n",
       "      <th></th>\n",
       "      <th>answered_calls</th>\n",
       "    </tr>\n",
       "  </thead>\n",
       "  <tbody>\n",
       "    <tr>\n",
       "      <th>0</th>\n",
       "      <td>1455</td>\n",
       "    </tr>\n",
       "  </tbody>\n",
       "</table>\n",
       "</div>"
      ],
      "text/plain": [
       "   answered_calls\n",
       "0            1455"
      ]
     },
     "execution_count": 48,
     "metadata": {},
     "output_type": "execute_result"
    }
   ],
   "source": [
    "execute_query(\"select count(answered) as answered_calls from opticonnect where answered = 'Y';\")"
   ]
  },
  {
   "cell_type": "code",
   "execution_count": 49,
   "id": "cb436c49",
   "metadata": {},
   "outputs": [
    {
     "data": {
      "text/plain": [
       "82.11060948081264"
      ]
     },
     "execution_count": 49,
     "metadata": {},
     "output_type": "execute_result"
    }
   ],
   "source": [
    "#  calls answered = answered calls / total calls\n",
    "\n",
    "1455 / 1772 * 100 "
   ]
  },
  {
   "cell_type": "markdown",
   "id": "eb3b1a91",
   "metadata": {},
   "source": [
    "To find total number of calls resolved :\n",
    "1. we can calculate by using count of resolved columns with a condition of resolved = Y"
   ]
  },
  {
   "cell_type": "code",
   "execution_count": 50,
   "id": "1598a9c6",
   "metadata": {},
   "outputs": [
    {
     "data": {
      "text/html": [
       "<div>\n",
       "<style scoped>\n",
       "    .dataframe tbody tr th:only-of-type {\n",
       "        vertical-align: middle;\n",
       "    }\n",
       "\n",
       "    .dataframe tbody tr th {\n",
       "        vertical-align: top;\n",
       "    }\n",
       "\n",
       "    .dataframe thead th {\n",
       "        text-align: right;\n",
       "    }\n",
       "</style>\n",
       "<table border=\"1\" class=\"dataframe\">\n",
       "  <thead>\n",
       "    <tr style=\"text-align: right;\">\n",
       "      <th></th>\n",
       "      <th>resolved_calls</th>\n",
       "    </tr>\n",
       "  </thead>\n",
       "  <tbody>\n",
       "    <tr>\n",
       "      <th>0</th>\n",
       "      <td>1311</td>\n",
       "    </tr>\n",
       "  </tbody>\n",
       "</table>\n",
       "</div>"
      ],
      "text/plain": [
       "   resolved_calls\n",
       "0            1311"
      ]
     },
     "execution_count": 50,
     "metadata": {},
     "output_type": "execute_result"
    }
   ],
   "source": [
    "execute_query(\"select count(Resolved) as resolved_calls from opticonnect where Resolved = 'Y';\")"
   ]
  },
  {
   "cell_type": "code",
   "execution_count": 52,
   "id": "3da9ee1f",
   "metadata": {},
   "outputs": [
    {
     "data": {
      "text/plain": [
       "90.10309278350516"
      ]
     },
     "execution_count": 52,
     "metadata": {},
     "output_type": "execute_result"
    }
   ],
   "source": [
    "#  calls resolved = resolved_calls / answered calls\n",
    "\n",
    "1311 / 1455 * 100"
   ]
  },
  {
   "cell_type": "markdown",
   "id": "522cab4d",
   "metadata": {},
   "source": [
    "To find abanden calls:\n",
    "1. we can find the abanden calls by using count of answered = N"
   ]
  },
  {
   "cell_type": "code",
   "execution_count": 46,
   "id": "1c1842b6",
   "metadata": {},
   "outputs": [
    {
     "data": {
      "text/html": [
       "<div>\n",
       "<style scoped>\n",
       "    .dataframe tbody tr th:only-of-type {\n",
       "        vertical-align: middle;\n",
       "    }\n",
       "\n",
       "    .dataframe tbody tr th {\n",
       "        vertical-align: top;\n",
       "    }\n",
       "\n",
       "    .dataframe thead th {\n",
       "        text-align: right;\n",
       "    }\n",
       "</style>\n",
       "<table border=\"1\" class=\"dataframe\">\n",
       "  <thead>\n",
       "    <tr style=\"text-align: right;\">\n",
       "      <th></th>\n",
       "      <th>abanden_calls</th>\n",
       "    </tr>\n",
       "  </thead>\n",
       "  <tbody>\n",
       "    <tr>\n",
       "      <th>0</th>\n",
       "      <td>317</td>\n",
       "    </tr>\n",
       "  </tbody>\n",
       "</table>\n",
       "</div>"
      ],
      "text/plain": [
       "   abanden_calls\n",
       "0            317"
      ]
     },
     "execution_count": 46,
     "metadata": {},
     "output_type": "execute_result"
    }
   ],
   "source": [
    "execute_query(\"select count(answered) as abanden_calls from opticonnect where answered = 'N';\")"
   ]
  },
  {
   "cell_type": "code",
   "execution_count": 53,
   "id": "737aa75d",
   "metadata": {},
   "outputs": [
    {
     "data": {
      "text/plain": [
       "17.88939051918736"
      ]
     },
     "execution_count": 53,
     "metadata": {},
     "output_type": "execute_result"
    }
   ],
   "source": [
    "# to find abanden rate =  abanden_calls / total calls\n",
    "\n",
    "317 / 1772  * 100"
   ]
  },
  {
   "cell_type": "markdown",
   "id": "33bea5fa",
   "metadata": {},
   "source": [
    "To find calls less than 180 sec :\n",
    "1. we can find by using count of avg talk duration with a condition between 0 to 3 min"
   ]
  },
  {
   "cell_type": "code",
   "execution_count": 103,
   "id": "8d0c5987",
   "metadata": {},
   "outputs": [
    {
     "data": {
      "text/html": [
       "<div>\n",
       "<style scoped>\n",
       "    .dataframe tbody tr th:only-of-type {\n",
       "        vertical-align: middle;\n",
       "    }\n",
       "\n",
       "    .dataframe tbody tr th {\n",
       "        vertical-align: top;\n",
       "    }\n",
       "\n",
       "    .dataframe thead th {\n",
       "        text-align: right;\n",
       "    }\n",
       "</style>\n",
       "<table border=\"1\" class=\"dataframe\">\n",
       "  <thead>\n",
       "    <tr style=\"text-align: right;\">\n",
       "      <th></th>\n",
       "      <th>calls_less</th>\n",
       "    </tr>\n",
       "  </thead>\n",
       "  <tbody>\n",
       "    <tr>\n",
       "      <th>0</th>\n",
       "      <td>569</td>\n",
       "    </tr>\n",
       "  </tbody>\n",
       "</table>\n",
       "</div>"
      ],
      "text/plain": [
       "   calls_less\n",
       "0         569"
      ]
     },
     "execution_count": 103,
     "metadata": {},
     "output_type": "execute_result"
    }
   ],
   "source": [
    "execute_query(\"select count(AvgTalkDuration) as calls_less from opticonnect where AvgTalkDuration between '00:00:00' and '00:03:00'; \")"
   ]
  },
  {
   "cell_type": "code",
   "execution_count": 104,
   "id": "c86925b4",
   "metadata": {},
   "outputs": [
    {
     "data": {
      "text/plain": [
       "39.106529209621996"
      ]
     },
     "execution_count": 104,
     "metadata": {},
     "output_type": "execute_result"
    }
   ],
   "source": [
    "# calls < 3 min = calls less / calls answered\n",
    "\n",
    "569 / 1455  * 100"
   ]
  },
  {
   "cell_type": "markdown",
   "id": "a54ec86e",
   "metadata": {},
   "source": [
    "To find satisfaction count and count of less satisfaction rate\n",
    "1. count of satisfaction rating can be calculated\n",
    "2. count of less satisfaction can be calculated\n"
   ]
  },
  {
   "cell_type": "code",
   "execution_count": 128,
   "id": "1495bb0e",
   "metadata": {},
   "outputs": [
    {
     "data": {
      "text/html": [
       "<div>\n",
       "<style scoped>\n",
       "    .dataframe tbody tr th:only-of-type {\n",
       "        vertical-align: middle;\n",
       "    }\n",
       "\n",
       "    .dataframe tbody tr th {\n",
       "        vertical-align: top;\n",
       "    }\n",
       "\n",
       "    .dataframe thead th {\n",
       "        text-align: right;\n",
       "    }\n",
       "</style>\n",
       "<table border=\"1\" class=\"dataframe\">\n",
       "  <thead>\n",
       "    <tr style=\"text-align: right;\">\n",
       "      <th></th>\n",
       "      <th>count(Satisfaction_rating)</th>\n",
       "    </tr>\n",
       "  </thead>\n",
       "  <tbody>\n",
       "    <tr>\n",
       "      <th>0</th>\n",
       "      <td>1455</td>\n",
       "    </tr>\n",
       "  </tbody>\n",
       "</table>\n",
       "</div>"
      ],
      "text/plain": [
       "   count(Satisfaction_rating)\n",
       "0                        1455"
      ]
     },
     "execution_count": 128,
     "metadata": {},
     "output_type": "execute_result"
    }
   ],
   "source": [
    "execute_query(\"select count(Satisfaction_rating) as satisfaction_count  from opticonnect where Satisfaction_rating >= '1';\")"
   ]
  },
  {
   "cell_type": "code",
   "execution_count": 130,
   "id": "f6582205",
   "metadata": {},
   "outputs": [
    {
     "data": {
      "text/html": [
       "<div>\n",
       "<style scoped>\n",
       "    .dataframe tbody tr th:only-of-type {\n",
       "        vertical-align: middle;\n",
       "    }\n",
       "\n",
       "    .dataframe tbody tr th {\n",
       "        vertical-align: top;\n",
       "    }\n",
       "\n",
       "    .dataframe thead th {\n",
       "        text-align: right;\n",
       "    }\n",
       "</style>\n",
       "<table border=\"1\" class=\"dataframe\">\n",
       "  <thead>\n",
       "    <tr style=\"text-align: right;\">\n",
       "      <th></th>\n",
       "      <th>less_satisfaction</th>\n",
       "    </tr>\n",
       "  </thead>\n",
       "  <tbody>\n",
       "    <tr>\n",
       "      <th>0</th>\n",
       "      <td>724</td>\n",
       "    </tr>\n",
       "  </tbody>\n",
       "</table>\n",
       "</div>"
      ],
      "text/plain": [
       "   less_satisfaction\n",
       "0                724"
      ]
     },
     "execution_count": 130,
     "metadata": {},
     "output_type": "execute_result"
    }
   ],
   "source": [
    "execute_query(\"select count(Satisfaction_rating) as less_satisfaction from opticonnect where Satisfaction_rating between '1' and '3';\")"
   ]
  },
  {
   "cell_type": "code",
   "execution_count": 131,
   "id": "4d5b8ecc",
   "metadata": {},
   "outputs": [
    {
     "data": {
      "text/plain": [
       "49.75945017182131"
      ]
     },
     "execution_count": 131,
     "metadata": {},
     "output_type": "execute_result"
    }
   ],
   "source": [
    "# to find satisfaction less than 4 = less satisfaction / satisfaction count\n",
    "\n",
    "724 / 1455 * 100"
   ]
  },
  {
   "cell_type": "markdown",
   "id": "23a483a7",
   "metadata": {},
   "source": [
    "To find average speed of answer of total calls"
   ]
  },
  {
   "cell_type": "code",
   "execution_count": 133,
   "id": "279dc1fd",
   "metadata": {},
   "outputs": [
    {
     "data": {
      "text/html": [
       "<div>\n",
       "<style scoped>\n",
       "    .dataframe tbody tr th:only-of-type {\n",
       "        vertical-align: middle;\n",
       "    }\n",
       "\n",
       "    .dataframe tbody tr th {\n",
       "        vertical-align: top;\n",
       "    }\n",
       "\n",
       "    .dataframe thead th {\n",
       "        text-align: right;\n",
       "    }\n",
       "</style>\n",
       "<table border=\"1\" class=\"dataframe\">\n",
       "  <thead>\n",
       "    <tr style=\"text-align: right;\">\n",
       "      <th></th>\n",
       "      <th>avg_speed</th>\n",
       "    </tr>\n",
       "  </thead>\n",
       "  <tbody>\n",
       "    <tr>\n",
       "      <th>0</th>\n",
       "      <td>67.219931</td>\n",
       "    </tr>\n",
       "  </tbody>\n",
       "</table>\n",
       "</div>"
      ],
      "text/plain": [
       "   avg_speed\n",
       "0  67.219931"
      ]
     },
     "execution_count": 133,
     "metadata": {},
     "output_type": "execute_result"
    }
   ],
   "source": [
    "execute_query(\"select avg(Speed_of_Answer) as avg_speed from opticonnect;\")"
   ]
  },
  {
   "cell_type": "markdown",
   "id": "141e043a",
   "metadata": {},
   "source": [
    "To find total calls answered with satisfaction rating"
   ]
  },
  {
   "cell_type": "code",
   "execution_count": 138,
   "id": "c8f9dfbb",
   "metadata": {},
   "outputs": [
    {
     "data": {
      "text/html": [
       "<div>\n",
       "<style scoped>\n",
       "    .dataframe tbody tr th:only-of-type {\n",
       "        vertical-align: middle;\n",
       "    }\n",
       "\n",
       "    .dataframe tbody tr th {\n",
       "        vertical-align: top;\n",
       "    }\n",
       "\n",
       "    .dataframe thead th {\n",
       "        text-align: right;\n",
       "    }\n",
       "</style>\n",
       "<table border=\"1\" class=\"dataframe\">\n",
       "  <thead>\n",
       "    <tr style=\"text-align: right;\">\n",
       "      <th></th>\n",
       "      <th>Satisfaction_rating</th>\n",
       "      <th>count(Satisfaction_rating)</th>\n",
       "    </tr>\n",
       "  </thead>\n",
       "  <tbody>\n",
       "    <tr>\n",
       "      <th>0</th>\n",
       "      <td>NaN</td>\n",
       "      <td>0</td>\n",
       "    </tr>\n",
       "    <tr>\n",
       "      <th>1</th>\n",
       "      <td>1.0</td>\n",
       "      <td>121</td>\n",
       "    </tr>\n",
       "    <tr>\n",
       "      <th>2</th>\n",
       "      <td>2.0</td>\n",
       "      <td>146</td>\n",
       "    </tr>\n",
       "    <tr>\n",
       "      <th>3</th>\n",
       "      <td>3.0</td>\n",
       "      <td>457</td>\n",
       "    </tr>\n",
       "    <tr>\n",
       "      <th>4</th>\n",
       "      <td>4.0</td>\n",
       "      <td>413</td>\n",
       "    </tr>\n",
       "    <tr>\n",
       "      <th>5</th>\n",
       "      <td>5.0</td>\n",
       "      <td>318</td>\n",
       "    </tr>\n",
       "  </tbody>\n",
       "</table>\n",
       "</div>"
      ],
      "text/plain": [
       "   Satisfaction_rating  count(Satisfaction_rating)\n",
       "0                  NaN                           0\n",
       "1                  1.0                         121\n",
       "2                  2.0                         146\n",
       "3                  3.0                         457\n",
       "4                  4.0                         413\n",
       "5                  5.0                         318"
      ]
     },
     "execution_count": 138,
     "metadata": {},
     "output_type": "execute_result"
    }
   ],
   "source": [
    "execute_query(\"select Satisfaction_rating,count(Satisfaction_rating) from opticonnect group by Satisfaction_rating;\")"
   ]
  },
  {
   "cell_type": "markdown",
   "id": "0541693a",
   "metadata": {},
   "source": [
    "To find Agent's Resolved calls "
   ]
  },
  {
   "cell_type": "code",
   "execution_count": 151,
   "id": "a6d72c94",
   "metadata": {},
   "outputs": [
    {
     "data": {
      "text/html": [
       "<div>\n",
       "<style scoped>\n",
       "    .dataframe tbody tr th:only-of-type {\n",
       "        vertical-align: middle;\n",
       "    }\n",
       "\n",
       "    .dataframe tbody tr th {\n",
       "        vertical-align: top;\n",
       "    }\n",
       "\n",
       "    .dataframe thead th {\n",
       "        text-align: right;\n",
       "    }\n",
       "</style>\n",
       "<table border=\"1\" class=\"dataframe\">\n",
       "  <thead>\n",
       "    <tr style=\"text-align: right;\">\n",
       "      <th></th>\n",
       "      <th>Agent</th>\n",
       "      <th>Resolved_calls</th>\n",
       "    </tr>\n",
       "  </thead>\n",
       "  <tbody>\n",
       "    <tr>\n",
       "      <th>0</th>\n",
       "      <td>Becky</td>\n",
       "      <td>154</td>\n",
       "    </tr>\n",
       "    <tr>\n",
       "      <th>1</th>\n",
       "      <td>Dan</td>\n",
       "      <td>177</td>\n",
       "    </tr>\n",
       "    <tr>\n",
       "      <th>2</th>\n",
       "      <td>Diane</td>\n",
       "      <td>168</td>\n",
       "    </tr>\n",
       "    <tr>\n",
       "      <th>3</th>\n",
       "      <td>Greg</td>\n",
       "      <td>155</td>\n",
       "    </tr>\n",
       "    <tr>\n",
       "      <th>4</th>\n",
       "      <td>Jim</td>\n",
       "      <td>173</td>\n",
       "    </tr>\n",
       "    <tr>\n",
       "      <th>5</th>\n",
       "      <td>Joe</td>\n",
       "      <td>169</td>\n",
       "    </tr>\n",
       "    <tr>\n",
       "      <th>6</th>\n",
       "      <td>Martha</td>\n",
       "      <td>152</td>\n",
       "    </tr>\n",
       "    <tr>\n",
       "      <th>7</th>\n",
       "      <td>Stewart</td>\n",
       "      <td>163</td>\n",
       "    </tr>\n",
       "  </tbody>\n",
       "</table>\n",
       "</div>"
      ],
      "text/plain": [
       "     Agent  Resolved_calls\n",
       "0    Becky             154\n",
       "1      Dan             177\n",
       "2    Diane             168\n",
       "3     Greg             155\n",
       "4      Jim             173\n",
       "5      Joe             169\n",
       "6   Martha             152\n",
       "7  Stewart             163"
      ]
     },
     "execution_count": 151,
     "metadata": {},
     "output_type": "execute_result"
    }
   ],
   "source": [
    "execute_query(\"select Agent,count(Resolved) as Resolved_calls from opticonnect where Resolved = 'Y' group by Agent;\")"
   ]
  },
  {
   "cell_type": "markdown",
   "id": "81cb7557",
   "metadata": {},
   "source": [
    "To find total calls , answered calls, resolved calls ,average speed of answer with respective to agents"
   ]
  },
  {
   "cell_type": "code",
   "execution_count": 150,
   "id": "7756bef4",
   "metadata": {},
   "outputs": [
    {
     "data": {
      "text/html": [
       "<div>\n",
       "<style scoped>\n",
       "    .dataframe tbody tr th:only-of-type {\n",
       "        vertical-align: middle;\n",
       "    }\n",
       "\n",
       "    .dataframe tbody tr th {\n",
       "        vertical-align: top;\n",
       "    }\n",
       "\n",
       "    .dataframe thead th {\n",
       "        text-align: right;\n",
       "    }\n",
       "</style>\n",
       "<table border=\"1\" class=\"dataframe\">\n",
       "  <thead>\n",
       "    <tr style=\"text-align: right;\">\n",
       "      <th></th>\n",
       "      <th>Agent</th>\n",
       "      <th>total_calls</th>\n",
       "      <th>answered_call</th>\n",
       "      <th>resolved_call</th>\n",
       "      <th>avg(Speed_of_Answer)</th>\n",
       "    </tr>\n",
       "  </thead>\n",
       "  <tbody>\n",
       "    <tr>\n",
       "      <th>0</th>\n",
       "      <td>Becky</td>\n",
       "      <td>216</td>\n",
       "      <td>177</td>\n",
       "      <td>154</td>\n",
       "      <td>64.350282</td>\n",
       "    </tr>\n",
       "    <tr>\n",
       "      <th>1</th>\n",
       "      <td>Dan</td>\n",
       "      <td>227</td>\n",
       "      <td>190</td>\n",
       "      <td>177</td>\n",
       "      <td>66.952632</td>\n",
       "    </tr>\n",
       "    <tr>\n",
       "      <th>2</th>\n",
       "      <td>Diane</td>\n",
       "      <td>222</td>\n",
       "      <td>185</td>\n",
       "      <td>168</td>\n",
       "      <td>63.935135</td>\n",
       "    </tr>\n",
       "    <tr>\n",
       "      <th>3</th>\n",
       "      <td>Greg</td>\n",
       "      <td>208</td>\n",
       "      <td>173</td>\n",
       "      <td>155</td>\n",
       "      <td>67.196532</td>\n",
       "    </tr>\n",
       "    <tr>\n",
       "      <th>4</th>\n",
       "      <td>Jim</td>\n",
       "      <td>228</td>\n",
       "      <td>187</td>\n",
       "      <td>173</td>\n",
       "      <td>66.663102</td>\n",
       "    </tr>\n",
       "    <tr>\n",
       "      <th>5</th>\n",
       "      <td>Joe</td>\n",
       "      <td>221</td>\n",
       "      <td>186</td>\n",
       "      <td>169</td>\n",
       "      <td>71.155914</td>\n",
       "    </tr>\n",
       "    <tr>\n",
       "      <th>6</th>\n",
       "      <td>Martha</td>\n",
       "      <td>220</td>\n",
       "      <td>171</td>\n",
       "      <td>152</td>\n",
       "      <td>71.456140</td>\n",
       "    </tr>\n",
       "    <tr>\n",
       "      <th>7</th>\n",
       "      <td>Stewart</td>\n",
       "      <td>230</td>\n",
       "      <td>186</td>\n",
       "      <td>163</td>\n",
       "      <td>66.241935</td>\n",
       "    </tr>\n",
       "  </tbody>\n",
       "</table>\n",
       "</div>"
      ],
      "text/plain": [
       "     Agent  total_calls  answered_call  resolved_call  avg(Speed_of_Answer)\n",
       "0    Becky          216            177            154             64.350282\n",
       "1      Dan          227            190            177             66.952632\n",
       "2    Diane          222            185            168             63.935135\n",
       "3     Greg          208            173            155             67.196532\n",
       "4      Jim          228            187            173             66.663102\n",
       "5      Joe          221            186            169             71.155914\n",
       "6   Martha          220            171            152             71.456140\n",
       "7  Stewart          230            186            163             66.241935"
      ]
     },
     "execution_count": 150,
     "metadata": {},
     "output_type": "execute_result"
    }
   ],
   "source": [
    "execute_query(\"\"\"select Agent,count(Call_Id) as total_calls,\n",
    "sum(case when answered = 'Y' then 1 else 0 end)as answered_call,\n",
    "sum(case when Resolved = 'Y' then 1 else 0 end)as resolved_call,\n",
    "avg(Speed_of_Answer)\n",
    "from opticonnect group by Agent;\"\"\")"
   ]
  },
  {
   "cell_type": "code",
   "execution_count": null,
   "id": "5a886ac3",
   "metadata": {},
   "outputs": [],
   "source": []
  },
  {
   "cell_type": "code",
   "execution_count": null,
   "id": "d8143d57",
   "metadata": {},
   "outputs": [],
   "source": []
  },
  {
   "cell_type": "code",
   "execution_count": null,
   "id": "623bd70d",
   "metadata": {},
   "outputs": [],
   "source": []
  },
  {
   "cell_type": "code",
   "execution_count": null,
   "id": "729139a2",
   "metadata": {},
   "outputs": [],
   "source": []
  }
 ],
 "metadata": {
  "kernelspec": {
   "display_name": "Python 3 (ipykernel)",
   "language": "python",
   "name": "python3"
  },
  "language_info": {
   "codemirror_mode": {
    "name": "ipython",
    "version": 3
   },
   "file_extension": ".py",
   "mimetype": "text/x-python",
   "name": "python",
   "nbconvert_exporter": "python",
   "pygments_lexer": "ipython3",
   "version": "3.10.0"
  }
 },
 "nbformat": 4,
 "nbformat_minor": 5
}
